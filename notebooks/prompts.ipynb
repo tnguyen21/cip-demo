{
 "cells": [
  {
   "cell_type": "code",
   "execution_count": null,
   "id": "2bca726a-4f1f-4c50-a739-635db206cb65",
   "metadata": {},
   "outputs": [],
   "source": [
    "from openai import OpenAI\n",
    "import numpy as np\n",
    "import pandas as pd"
   ]
  },
  {
   "cell_type": "code",
   "execution_count": 35,
   "id": "ed254d40-c517-4db1-ac23-a91811bf8d2d",
   "metadata": {},
   "outputs": [],
   "source": [
    "KEY = \"YOUR_KEY_HERE\""
   ]
  },
  {
   "cell_type": "markdown",
   "id": "76cc1157-7602-4d30-9166-d984c40a9d40",
   "metadata": {},
   "source": [
    "## Prompt\n",
    "\n",
    "In Hewitt et al [1], \"Predicting Results of Social Science Experiments Using LLMs\", they found that they could use LLMs to generate responses to social surveys that matched up to responses from survey participants. Very interesting idea that seems to work (perhaps a little too well, which raises some skepticism).\n",
    "\n",
    "The methods section is a bit spare, but they include an image with an example prompt template used to generate responses. Approximate that prompt for our use case -- but this is a sharp edge! Need to validate the paper's claims more seriously.\n",
    "\n",
    "1: https://docsend.com/view/qeeccuggec56k9hd"
   ]
  },
  {
   "cell_type": "code",
   "execution_count": 64,
   "id": "9b606733-b3d5-41d4-b8fe-1c7142cfbb5e",
   "metadata": {},
   "outputs": [],
   "source": [
    "def construct_hewitt_et_al_prompt(\n",
    "    political_leaning,\n",
    "    age,\n",
    "    ethnicity,\n",
    "    gender,\n",
    "    education_level,\n",
    "    party,\n",
    "    policy\n",
    "):\n",
    "    \"\"\"\n",
    "    construct a prompt approximately based on work by Hewitt Et Al.\n",
    "     https://docsend.com/view/qeeccuggec56k9hd\n",
    "    \"\"\"\n",
    "    prompt = f\"\"\"\n",
    "You are a {political_leaning}, {age}, {ethnicity}, {gender}, Londoner with {education_level}, who identifies as {party}.\n",
    "You are asked about your thoughts on the following policy for the Greater Londer Area:\n",
    "\n",
    "{policy}\n",
    "\n",
    "Please concisely explain how you feel about the policy.\n",
    "\"\"\"\n",
    "    return prompt"
   ]
  },
  {
   "cell_type": "markdown",
   "id": "613140eb-afa0-4b88-8ce5-5d75cf209f4e",
   "metadata": {},
   "source": [
    "## Data Generation"
   ]
  },
  {
   "cell_type": "code",
   "execution_count": 62,
   "id": "94171db6-eb30-4787-ac0a-29578904b121",
   "metadata": {},
   "outputs": [],
   "source": [
    "# Example distributions\n",
    "# All of these numbers are dummy numbers until we find some stats to be confident in!\n",
    "political_leaning_dist = ['Liberal', 'Conservative', 'Moderate']\n",
    "political_leaning_prob = [0.4, 0.3, 0.3]\n",
    "\n",
    "age_dist = np.arange(18, 90)\n",
    "age_prob = np.random.normal(50, 15, len(age_dist))\n",
    "age_prob = age_prob / age_prob.sum()  # Normalize to sum to 1\n",
    "\n",
    "ethnicity_dist = ['White', 'Black', 'Asian', 'Hispanic', 'Other']\n",
    "ethnicity_prob = [0.6, 0.13, 0.06, 0.18, 0.03]\n",
    "\n",
    "gender_dist = ['Male', 'Female', 'Other']\n",
    "gender_prob = [0.49, 0.49, 0.02]\n",
    "\n",
    "education_level_dist = ['High School', 'Some College', 'Bachelor', 'Master', 'PhD']\n",
    "education_level_prob = [0.3, 0.3, 0.2, 0.15, 0.05]\n",
    "\n",
    "party_dist = ['Labour', 'Conservative', 'Liberal Democrat', 'Other']\n",
    "party_prob = [0.4, 0.35, 0.2, 0.05]"
   ]
  },
  {
   "cell_type": "code",
   "execution_count": 67,
   "id": "05e63f9d-46ac-4e2f-8182-ea2015242044",
   "metadata": {},
   "outputs": [
    {
     "name": "stdout",
     "output_type": "stream",
     "text": [
      "  political_leaning  age ethnicity  gender education_level             party\n",
      "0          Moderate   56     Black  Female    Some College  Liberal Democrat\n",
      "1           Liberal   50     White    Male          Master      Conservative\n",
      "2           Liberal   30     Black  Female    Some College      Conservative\n",
      "3           Liberal   65  Hispanic    Male    Some College            Labour\n",
      "4           Liberal   75     Asian    Male             PhD            Labour\n",
      "5          Moderate   75     White    Male     High School            Labour\n",
      "6           Liberal   43     Asian  Female          Master      Conservative\n",
      "7          Moderate   73     White  Female     High School      Conservative\n",
      "8           Liberal   42     White    Male     High School      Conservative\n",
      "9          Moderate   45  Hispanic  Female    Some College  Liberal Democrat\n"
     ]
    }
   ],
   "source": [
    "# Example: Add 10 rows to the DataFrame\n",
    "rows = []\n",
    "for _ in range(10):\n",
    "    row = {\n",
    "        'political_leaning': np.random.choice(political_leaning_dist, p=political_leaning_prob),\n",
    "        'age': np.random.choice(age_dist, p=age_prob),\n",
    "        'ethnicity': np.random.choice(ethnicity_dist, p=ethnicity_prob),\n",
    "        'gender': np.random.choice(gender_dist, p=gender_prob),\n",
    "        'education_level': np.random.choice(education_level_dist, p=education_level_prob),\n",
    "        'party': np.random.choice(party_dist, p=party_prob)\n",
    "    }\n",
    "    rows.append(row)\n",
    "\n",
    "df = pd.DataFrame(rows, columns=['political_leaning', 'age', 'ethnicity', 'gender', 'education_level', 'party'])\n",
    "\n",
    "# Display the DataFrame\n",
    "print(df)\n",
    "df_dict = df.to_dict(orient='records')"
   ]
  },
  {
   "cell_type": "code",
   "execution_count": 68,
   "id": "c482df67-987f-4554-820c-2df511ce93f5",
   "metadata": {},
   "outputs": [
    {
     "data": {
      "text/plain": [
       "{'political_leaning': np.str_('Moderate'),\n",
       " 'age': 56,\n",
       " 'ethnicity': np.str_('Black'),\n",
       " 'gender': np.str_('Female'),\n",
       " 'education_level': np.str_('Some College'),\n",
       " 'party': np.str_('Liberal Democrat')}"
      ]
     },
     "execution_count": 68,
     "metadata": {},
     "output_type": "execute_result"
    }
   ],
   "source": [
    "df_dict[0]"
   ]
  },
  {
   "cell_type": "code",
   "execution_count": 69,
   "id": "3d35b9bd-a343-40e1-8459-75495638131b",
   "metadata": {},
   "outputs": [
    {
     "data": {
      "text/plain": [
       "'\\nYou are a Moderate, 56, Black, Female, Londoner with Some College, who identifies as Liberal Democrat.\\nYou are asked about your thoughts on the following policy for the Greater Londer Area:\\n\\nIncrease funding for public schools by 10%\\n\\nPlease concisely explain how you feel about the policy.\\n'"
      ]
     },
     "execution_count": 69,
     "metadata": {},
     "output_type": "execute_result"
    }
   ],
   "source": [
    "construct_hewitt_et_al_prompt(**df_dict[0], policy=\"Increase funding for public schools by 10%\")"
   ]
  },
  {
   "cell_type": "code",
   "execution_count": 70,
   "id": "5bb5d476-816a-41d1-859d-c137e5ccd8f4",
   "metadata": {},
   "outputs": [
    {
     "data": {
      "text/plain": [
       "ChatCompletionMessage(content='I strongly support the policy to increase funding for public schools by 10%. Investing in education is crucial for the development of our children and the overall improvement of our communities. This funding can help reduce class sizes, provide better resources, and support teachers, which ultimately enhances the quality of education. Greater funding can also address disparities in schools, ensuring all children have access to a high-quality education, regardless of their background. In the long term, a well-funded education system can lead to a more informed and skilled workforce, benefiting society as a whole.', refusal=None, role='assistant', function_call=None, tool_calls=None)"
      ]
     },
     "execution_count": 70,
     "metadata": {},
     "output_type": "execute_result"
    }
   ],
   "source": [
    "response = client.chat.completions.create(\n",
    "  model=\"gpt-4o-mini\",\n",
    "  messages=[\n",
    "    {\"role\": \"system\", \"content\": construct_hewitt_et_al_prompt(**row, policy=\"Increase funding for public schools by 10%\")},\n",
    "    # {\"role\": \"user\", \"content\": \"Who won the world series in 2020?\"},\n",
    "  ]\n",
    ")\n",
    "response.choices[0].message"
   ]
  },
  {
   "cell_type": "code",
   "execution_count": 60,
   "id": "0f9dc4ba-a1b4-4ee9-892a-1e590eee795c",
   "metadata": {},
   "outputs": [
    {
     "data": {
      "text/plain": [
       "ChatCompletionMessage(content=\"As a conservative, I support the idea of increasing funding for public schools, but I believe it needs to be approached with caution. A 10% increase sounds promising, but I’d like to see a clear plan outlining how the funds will be used—particularly in terms of improving educational outcomes and ensuring accountability. \\n\\nIt's crucial that funding goes towards effective programs, teacher training, and resources that directly benefit our children. Additionally, our focus should also be on addressing the systemic issues in education, such as school choice and empowering parents to make decisions for their children's education. Overall, I’m open to the idea, but I want to ensure it’s part of a comprehensive strategy.\", refusal=None, role='assistant', function_call=None, tool_calls=None)"
      ]
     },
     "execution_count": 60,
     "metadata": {},
     "output_type": "execute_result"
    }
   ],
   "source": [
    "response = client.chat.completions.create(\n",
    "  model=\"gpt-4o-mini\",\n",
    "  messages=[\n",
    "    {\"role\": \"system\", \"content\": \"You are tasked with helping draft better policy proposals. Simulate responses of constitutients to the best of your ability.\"},\n",
    "    {\"role\": \"user\", \"content\": construct_hewitt_et_al_prompt(**row, policy=\"Increase funding for public schools by 10%\")},\n",
    "  ]\n",
    ")\n",
    "response.choices[0].message"
   ]
  },
  {
   "cell_type": "code",
   "execution_count": null,
   "id": "be0075ad-24a7-4964-9655-5116af28e57b",
   "metadata": {},
   "outputs": [],
   "source": []
  }
 ],
 "metadata": {
  "kernelspec": {
   "display_name": "Python 3 (ipykernel)",
   "language": "python",
   "name": "python3"
  },
  "language_info": {
   "codemirror_mode": {
    "name": "ipython",
    "version": 3
   },
   "file_extension": ".py",
   "mimetype": "text/x-python",
   "name": "python",
   "nbconvert_exporter": "python",
   "pygments_lexer": "ipython3",
   "version": "3.12.4"
  }
 },
 "nbformat": 4,
 "nbformat_minor": 5
}
